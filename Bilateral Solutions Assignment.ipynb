{
 "cells": [
  {
   "cell_type": "code",
   "execution_count": 2,
   "id": "a5556a4b-56bf-4b67-b80b-c4fb4410a6e2",
   "metadata": {},
   "outputs": [],
   "source": [
    "import pandas as pd\n",
    "import numpy as np\n",
    "import seaborn as sns"
   ]
  },
  {
   "cell_type": "markdown",
   "id": "077375cf-25e4-4809-bd8d-1dae54529646",
   "metadata": {},
   "source": [
    "1. Write a Python function that takes a list of records, where each record is a dictionary containing the name of a city and various types of weather data (e.g., temperature, humidity). The function should aggregate this data to provide insights such as the average temperature and humidity for each city. However, each record may not contain all types of data. The solution should gracefully handle missing data."
   ]
  },
  {
   "cell_type": "code",
   "execution_count": 5,
   "id": "4f608597-779a-4282-be20-4002af411767",
   "metadata": {},
   "outputs": [],
   "source": [
    "def aggregate_weather_data(records):\n",
    "    # Initialize a dictionary to store the total temperature, humidity and the count of valid entries for each city\n",
    "    city_data = {}\n",
    "\n",
    "    for record in records:\n",
    "        city = record.get('city')\n",
    "        temperature = record.get('temperature')\n",
    "        humidity = record.get('humidity')\n",
    "\n",
    "        if city not in city_data:\n",
    "            city_data[city] = {\n",
    "                'total_temperature': 0,\n",
    "                'temp_count': 0,\n",
    "                'total_humidity': 0,\n",
    "                'humidity_count': 0\n",
    "            }\n",
    "\n",
    "        # Update temperature data if available\n",
    "        if temperature is not None:\n",
    "            city_data[city]['total_temperature'] += temperature\n",
    "            city_data[city]['temp_count'] += 1\n",
    "\n",
    "        # Update humidity data if available\n",
    "        if humidity is not None:\n",
    "            city_data[city]['total_humidity'] += humidity\n",
    "            city_data[city]['humidity_count'] += 1\n",
    "\n",
    "    # Prepare the result by calculating averages\n",
    "    result = {}\n",
    "    for city, data in city_data.items():\n",
    "        avg_temp = data['total_temperature'] / data['temp_count'] if data['temp_count'] > 0 else None\n",
    "        avg_humidity = data['total_humidity'] / data['humidity_count'] if data['humidity_count'] > 0 else None\n",
    "        result[city] = {\n",
    "            'average_temperature': avg_temp,\n",
    "            'average_humidity': avg_humidity\n",
    "        }\n",
    "\n",
    "    return result\n"
   ]
  },
  {
   "cell_type": "code",
   "execution_count": 7,
   "id": "19fd65cf-9b85-4b61-a68c-dfdef657ced4",
   "metadata": {},
   "outputs": [
    {
     "name": "stdout",
     "output_type": "stream",
     "text": [
      "{'New York': {'average_temperature': 23.5, 'average_humidity': 65.0}, 'Los Angeles': {'average_temperature': 28.0, 'average_humidity': 65.0}, 'Chicago': {'average_temperature': 15.0, 'average_humidity': 80.0}}\n"
     ]
    }
   ],
   "source": [
    "records = [\n",
    "    {'city': 'New York', 'temperature': 22, 'humidity': 65},\n",
    "    {'city': 'New York', 'temperature': 25},  # missing humidity\n",
    "    {'city': 'Los Angeles', 'humidity': 70},  # missing temperature\n",
    "    {'city': 'Los Angeles', 'temperature': 28, 'humidity': 60},\n",
    "    {'city': 'Chicago', 'temperature': 15, 'humidity': 80}\n",
    "]\n",
    "\n",
    "print(aggregate_weather_data(records))\n"
   ]
  },
  {
   "cell_type": "markdown",
   "id": "159e9c59-4c9a-4f1a-a82d-dac5e0d4c03d",
   "metadata": {},
   "source": [
    "2. Write a Python function to perform prime factorization of a given integer. The function should return a list of tuples, where each tuple contains a prime factor and its corresponding exponent. For example, given the integer 60, the function should return [(2, 2), (3, 1), (5, 1)] since 60 = 2^2 * 3^1 * 5^1. "
   ]
  },
  {
   "cell_type": "code",
   "execution_count": 72,
   "id": "377496e7-6257-4a06-ac67-cc9369e094c3",
   "metadata": {},
   "outputs": [],
   "source": [
    "def prime_factorization(n):\n",
    "    factors = []\n",
    "    divisor = 2\n",
    "\n",
    "    # Check for the smallest prime factor first\n",
    "    while n % divisor == 0:\n",
    "        count = 0\n",
    "        while n % divisor == 0:\n",
    "            n //= divisor\n",
    "            count += 1\n",
    "        factors.append((divisor, count))\n",
    "\n",
    "    # Check for all odd numbers as potential divisors starting from 3\n",
    "    divisor = 3\n",
    "    while divisor * divisor <= n:\n",
    "        if n % divisor == 0:\n",
    "            count = 0\n",
    "            while n % divisor == 0:\n",
    "                n //= divisor\n",
    "                count += 1\n",
    "            factors.append((divisor, count))\n",
    "        divisor += 2\n",
    "\n",
    "    # If there's any prime factor larger than sqrt(n) left\n",
    "    if n > 1:\n",
    "        factors.append((n, 1))\n",
    "\n",
    "    return factors\n"
   ]
  },
  {
   "cell_type": "code",
   "execution_count": 74,
   "id": "b78f6568-7f09-4987-8409-f8277c0c369a",
   "metadata": {},
   "outputs": [
    {
     "name": "stdout",
     "output_type": "stream",
     "text": [
      "[(3, 2), (139, 1)]\n"
     ]
    }
   ],
   "source": [
    "print(prime_factorization(1251))\n"
   ]
  }
 ],
 "metadata": {
  "kernelspec": {
   "display_name": "Python 3 (ipykernel)",
   "language": "python",
   "name": "python3"
  },
  "language_info": {
   "codemirror_mode": {
    "name": "ipython",
    "version": 3
   },
   "file_extension": ".py",
   "mimetype": "text/x-python",
   "name": "python",
   "nbconvert_exporter": "python",
   "pygments_lexer": "ipython3",
   "version": "3.11.7"
  }
 },
 "nbformat": 4,
 "nbformat_minor": 5
}
